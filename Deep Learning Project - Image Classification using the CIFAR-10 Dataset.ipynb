{
 "cells": [
  {
   "cell_type": "markdown",
   "id": "abab14f5",
   "metadata": {},
   "source": [
    "# Image Classification using the CIFAR-10 Dataset"
   ]
  },
  {
   "cell_type": "code",
   "execution_count": 2,
   "id": "e3b14b58",
   "metadata": {},
   "outputs": [],
   "source": [
    "import tensorflow as tf\n",
    "from tensorflow.keras import layers, models\n",
    "from tensorflow.keras.datasets import cifar10\n"
   ]
  },
  {
   "cell_type": "code",
   "execution_count": 3,
   "id": "ad0c3f32",
   "metadata": {},
   "outputs": [
    {
     "name": "stdout",
     "output_type": "stream",
     "text": [
      "Downloading data from https://www.cs.toronto.edu/~kriz/cifar-10-python.tar.gz\n",
      "170498071/170498071 [==============================] - 158s 1us/step\n"
     ]
    }
   ],
   "source": [
    "# Load and preprocess the CIFAR-10 data\n",
    "(train_images, train_labels), (test_images, test_labels) = cifar10.load_data()\n",
    "train_images, test_images = train_images / 255.0, test_images / 255.0"
   ]
  },
  {
   "cell_type": "code",
   "execution_count": 5,
   "id": "b70c7efd",
   "metadata": {},
   "outputs": [],
   "source": [
    "# Define the CNN model\n",
    "model = models.Sequential([\n",
    "    layers.Conv2D(32, (3, 3), activation='relu', input_shape=(32, 32, 3)),\n",
    "    layers.MaxPooling2D((2, 2)),\n",
    "    layers.Conv2D(64, (3, 3), activation='relu'),\n",
    "    layers.MaxPooling2D((2, 2)),\n",
    "    layers.Conv2D(64, (3, 3), activation='relu'),\n",
    "    layers.Flatten(),\n",
    "    layers.Dense(64, activation='relu'),\n",
    "    layers.Dense(10, activation='softmax')\n",
    "])"
   ]
  },
  {
   "cell_type": "code",
   "execution_count": 7,
   "id": "868150bb",
   "metadata": {},
   "outputs": [],
   "source": [
    "# Compile the model\n",
    "model.compile(optimizer='adam',\n",
    "              loss='sparse_categorical_crossentropy',\n",
    "              metrics=['accuracy'])"
   ]
  },
  {
   "cell_type": "code",
   "execution_count": 13,
   "id": "3ac99dd0",
   "metadata": {},
   "outputs": [
    {
     "name": "stdout",
     "output_type": "stream",
     "text": [
      "Epoch 1/20\n",
      "1563/1563 [==============================] - 34s 22ms/step - loss: 0.2872 - accuracy: 0.8958 - val_loss: 1.4796 - val_accuracy: 0.6797\n",
      "Epoch 2/20\n",
      "1563/1563 [==============================] - 43s 27ms/step - loss: 0.2709 - accuracy: 0.9016 - val_loss: 1.4994 - val_accuracy: 0.6904\n",
      "Epoch 3/20\n",
      "1563/1563 [==============================] - 41s 26ms/step - loss: 0.2628 - accuracy: 0.9032 - val_loss: 1.5586 - val_accuracy: 0.6829\n",
      "Epoch 4/20\n",
      "1563/1563 [==============================] - 43s 27ms/step - loss: 0.2474 - accuracy: 0.9098 - val_loss: 1.5886 - val_accuracy: 0.6842\n",
      "Epoch 5/20\n",
      "1563/1563 [==============================] - 48s 31ms/step - loss: 0.2497 - accuracy: 0.9094 - val_loss: 1.6151 - val_accuracy: 0.6832\n",
      "Epoch 6/20\n",
      "1563/1563 [==============================] - 44s 28ms/step - loss: 0.2336 - accuracy: 0.9139 - val_loss: 1.6277 - val_accuracy: 0.6798\n",
      "Epoch 7/20\n",
      "1563/1563 [==============================] - 39s 25ms/step - loss: 0.2295 - accuracy: 0.9155 - val_loss: 1.6999 - val_accuracy: 0.6851\n",
      "Epoch 8/20\n",
      "1563/1563 [==============================] - 40s 26ms/step - loss: 0.2263 - accuracy: 0.9176 - val_loss: 1.6968 - val_accuracy: 0.6840\n",
      "Epoch 9/20\n",
      "1563/1563 [==============================] - 41s 26ms/step - loss: 0.2202 - accuracy: 0.9204 - val_loss: 1.7663 - val_accuracy: 0.6830\n",
      "Epoch 10/20\n",
      "1563/1563 [==============================] - 39s 25ms/step - loss: 0.2088 - accuracy: 0.9246 - val_loss: 1.8045 - val_accuracy: 0.6873\n",
      "Epoch 11/20\n",
      "1563/1563 [==============================] - 38s 24ms/step - loss: 0.2038 - accuracy: 0.9256 - val_loss: 1.9009 - val_accuracy: 0.6773\n",
      "Epoch 12/20\n",
      "1563/1563 [==============================] - 41s 26ms/step - loss: 0.2017 - accuracy: 0.9272 - val_loss: 1.9843 - val_accuracy: 0.6802\n",
      "Epoch 13/20\n",
      "1563/1563 [==============================] - 42s 27ms/step - loss: 0.1984 - accuracy: 0.9273 - val_loss: 1.9784 - val_accuracy: 0.6807\n",
      "Epoch 14/20\n",
      "1563/1563 [==============================] - 41s 26ms/step - loss: 0.1952 - accuracy: 0.9293 - val_loss: 2.0076 - val_accuracy: 0.6801\n",
      "Epoch 15/20\n",
      "1563/1563 [==============================] - 37s 24ms/step - loss: 0.1861 - accuracy: 0.9331 - val_loss: 2.0435 - val_accuracy: 0.6680\n",
      "Epoch 16/20\n",
      "1563/1563 [==============================] - 37s 24ms/step - loss: 0.1886 - accuracy: 0.9340 - val_loss: 2.1073 - val_accuracy: 0.6725\n",
      "Epoch 17/20\n",
      "1563/1563 [==============================] - 37s 23ms/step - loss: 0.1892 - accuracy: 0.9307 - val_loss: 2.0941 - val_accuracy: 0.6818\n",
      "Epoch 18/20\n",
      "1563/1563 [==============================] - 37s 23ms/step - loss: 0.1761 - accuracy: 0.9374 - val_loss: 2.1160 - val_accuracy: 0.6771\n",
      "Epoch 19/20\n",
      "1563/1563 [==============================] - 36s 23ms/step - loss: 0.1671 - accuracy: 0.9398 - val_loss: 2.2186 - val_accuracy: 0.6750\n",
      "Epoch 20/20\n",
      "1563/1563 [==============================] - 36s 23ms/step - loss: 0.1715 - accuracy: 0.9382 - val_loss: 2.2116 - val_accuracy: 0.6669\n"
     ]
    },
    {
     "data": {
      "text/plain": [
       "<keras.src.callbacks.History at 0x24f087f84c0>"
      ]
     },
     "execution_count": 13,
     "metadata": {},
     "output_type": "execute_result"
    }
   ],
   "source": [
    "# Train the model\n",
    "model.fit(train_images, train_labels, epochs=20, validation_data=(test_images, test_labels))"
   ]
  },
  {
   "cell_type": "code",
   "execution_count": 14,
   "id": "53ac5156",
   "metadata": {},
   "outputs": [
    {
     "name": "stdout",
     "output_type": "stream",
     "text": [
      "313/313 [==============================] - 2s 7ms/step - loss: 2.2116 - accuracy: 0.6669\n",
      "Test Accuracy: 0.6668999791145325\n"
     ]
    }
   ],
   "source": [
    "# Evaluate the model\n",
    "test_loss, test_acc = model.evaluate(test_images, test_labels)\n",
    "print(f\"Test Accuracy: {test_acc}\")"
   ]
  },
  {
   "cell_type": "code",
   "execution_count": null,
   "id": "2a4f8441",
   "metadata": {},
   "outputs": [],
   "source": []
  }
 ],
 "metadata": {
  "kernelspec": {
   "display_name": "Python 3 (ipykernel)",
   "language": "python",
   "name": "python3"
  },
  "language_info": {
   "codemirror_mode": {
    "name": "ipython",
    "version": 3
   },
   "file_extension": ".py",
   "mimetype": "text/x-python",
   "name": "python",
   "nbconvert_exporter": "python",
   "pygments_lexer": "ipython3",
   "version": "3.9.13"
  }
 },
 "nbformat": 4,
 "nbformat_minor": 5
}
