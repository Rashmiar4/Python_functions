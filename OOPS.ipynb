{
 "cells": [
  {
   "cell_type": "code",
   "execution_count": 2,
   "id": "f665d139",
   "metadata": {},
   "outputs": [
    {
     "name": "stdout",
     "output_type": "stream",
     "text": [
      "Original Name: John Doe\n",
      "Original Age: 25\n",
      "Modified Name: Jane Doe\n",
      "Modified Age: 30\n"
     ]
    }
   ],
   "source": [
    "#encapsulation\n",
    "class Person:\n",
    "\n",
    "    def __init__(self, name, age):\n",
    "        # Private attributes\n",
    "        self._name = name  # Note: Convention to indicate \"protected\" attribute\n",
    "        self._age = age\n",
    "\n",
    "    # Public methods to interact with the encapsulated data\n",
    "    def get_name(self):\n",
    "        return self._name\n",
    "\n",
    "    def set_name(self, new_name):\n",
    "        # You can include validation logic here if needed\n",
    "        self._name = new_name\n",
    "\n",
    "    def get_age(self):\n",
    "        return self._age\n",
    "\n",
    "    def set_age(self, new_age):\n",
    "        # You can include validation logic here if needed\n",
    "        self._age = new_age\n",
    "\n",
    "# Example usage\n",
    "person1 = Person(\"John Doe\", 25)\n",
    "\n",
    "# Accessing attributes through public methods\n",
    "print(\"Original Name:\", person1.get_name())\n",
    "print(\"Original Age:\", person1.get_age())\n",
    "\n",
    "# Modifying attributes through public methods\n",
    "person1.set_name(\"Jane Doe\")\n",
    "person1.set_age(30)\n",
    "\n",
    "# Accessing modified attributes\n",
    "print(\"Modified Name:\", person1.get_name())\n",
    "print(\"Modified Age:\", person1.get_age())\n"
   ]
  },
  {
   "cell_type": "code",
   "execution_count": 3,
   "id": "591e3ff8",
   "metadata": {},
   "outputs": [
    {
     "name": "stdout",
     "output_type": "stream",
     "text": [
      "Name: John Doe, Age: 25\n",
      "Name: Alice Smith, Age: 20, Student ID: S12345\n"
     ]
    }
   ],
   "source": [
    "#inheritance\n",
    "\n",
    "# Base class\n",
    "class Person:\n",
    "    def __init__(self, name, age):\n",
    "        self.name = name\n",
    "        self.age = age\n",
    "\n",
    "    def display_info(self):\n",
    "        return f\"Name: {self.name}, Age: {self.age}\"\n",
    "\n",
    "\n",
    "# Derived class\n",
    "class Student(Person):\n",
    "    def __init__(self, name, age, student_id):\n",
    "        # Call the constructor of the base class using super()\n",
    "        super().__init__(name, age)\n",
    "        self.student_id = student_id\n",
    "\n",
    "    def display_info(self):\n",
    "        # Override the display_info method from the base class\n",
    "        return f\"Name: {self.name}, Age: {self.age}, Student ID: {self.student_id}\"\n",
    "\n",
    "\n",
    "# Example usage\n",
    "person = Person(\"John Doe\", 25)\n",
    "student = Student(\"Alice Smith\", 20, \"S12345\")\n",
    "\n",
    "print(person.display_info())  # Output: Name: John Doe, Age: 25\n",
    "print(student.display_info())  # Output: Name: Alice Smith, Age: 20, Student ID: S12345\n"
   ]
  },
  {
   "cell_type": "code",
   "execution_count": 5,
   "id": "4d634ac8",
   "metadata": {},
   "outputs": [
    {
     "name": "stdout",
     "output_type": "stream",
     "text": [
      "Area: 78.5\n",
      "Area: 24\n"
     ]
    }
   ],
   "source": [
    "#polymorphism\n",
    "\n",
    "class Shape:\n",
    "    def area(self):\n",
    "        pass\n",
    "\n",
    "class Circle(Shape):\n",
    "    def __init__(self, radius):\n",
    "        self.radius = radius\n",
    "\n",
    "    def area(self):\n",
    "        return 3.14 * self.radius * self.radius\n",
    "\n",
    "class Rectangle(Shape):\n",
    "    def __init__(self, length, width):\n",
    "        self.length = length\n",
    "        self.width = width\n",
    "\n",
    "    def area(self):\n",
    "        return self.length * self.width\n",
    "\n",
    "def print_area(shape):\n",
    "    print(f\"Area: {shape.area()}\")\n",
    "\n",
    "# Create instances of Circle and Rectangle\n",
    "circle = Circle(radius=5)\n",
    "rectangle = Rectangle(length=4, width=6)\n",
    "\n",
    "# Use the print_area function with different shapes\n",
    "print_area(circle)      # Output: Area: 78.5\n",
    "print_area(rectangle)   # Output: Area: 24\n"
   ]
  },
  {
   "cell_type": "code",
   "execution_count": 6,
   "id": "152f31cb",
   "metadata": {},
   "outputs": [
    {
     "name": "stdout",
     "output_type": "stream",
     "text": [
      "Car engine started\n",
      "Car is moving\n"
     ]
    }
   ],
   "source": [
    "#abstaction\n",
    "\n",
    "from abc import ABC, abstractmethod\n",
    "\n",
    "# Define an abstract base class (ABC) for a generic vehicle\n",
    "class Vehicle(ABC):\n",
    "    @abstractmethod\n",
    "    def start_engine(self):\n",
    "        pass\n",
    "\n",
    "    @abstractmethod\n",
    "    def drive(self):\n",
    "        pass\n",
    "\n",
    "# Implement a concrete class for a specific type of vehicle - Car\n",
    "class Car(Vehicle):\n",
    "    def start_engine(self):\n",
    "        print(\"Car engine started\")\n",
    "\n",
    "    def drive(self):\n",
    "        print(\"Car is moving\")\n",
    "\n",
    "# Instantiate and use the Car class\n",
    "my_car = Car()\n",
    "my_car.start_engine()\n",
    "my_car.drive()\n"
   ]
  },
  {
   "cell_type": "code",
   "execution_count": 7,
   "id": "767c9b22",
   "metadata": {},
   "outputs": [
    {
     "name": "stdout",
     "output_type": "stream",
     "text": [
      "Square Area: 25\n",
      "Square Perimeter: 20\n",
      "Circle Area: 28.26\n",
      "Circle Perimeter: 18.84\n"
     ]
    }
   ],
   "source": [
    "#abstarct classes\n",
    "\n",
    "from abc import ABC, abstractmethod\n",
    "\n",
    "class Shape(ABC):\n",
    "    @abstractmethod\n",
    "    def area(self):\n",
    "        pass\n",
    "    \n",
    "    @abstractmethod\n",
    "    def perimeter(self):\n",
    "        pass\n",
    "\n",
    "class Square(Shape):\n",
    "    def __init__(self, side):\n",
    "        self.side = side\n",
    "\n",
    "    def area(self):\n",
    "        return self.side ** 2\n",
    "\n",
    "    def perimeter(self):\n",
    "        return 4 * self.side\n",
    "\n",
    "class Circle(Shape):\n",
    "    def __init__(self, radius):\n",
    "        self.radius = radius\n",
    "\n",
    "    def area(self):\n",
    "        return 3.14 * self.radius ** 2\n",
    "\n",
    "    def perimeter(self):\n",
    "        return 2 * 3.14 * self.radius\n",
    "\n",
    "# Attempting to instantiate an abstract class will raise an error\n",
    "# shape = Shape()  # This will result in a TypeError\n",
    "\n",
    "# Creating instances of concrete subclasses\n",
    "square = Square(5)\n",
    "circle = Circle(3)\n",
    "\n",
    "# Using methods from the abstract class through the subclasses\n",
    "print(\"Square Area:\", square.area())\n",
    "print(\"Square Perimeter:\", square.perimeter())\n",
    "\n",
    "print(\"Circle Area:\", circle.area())\n",
    "print(\"Circle Perimeter:\", circle.perimeter())\n"
   ]
  },
  {
   "cell_type": "code",
   "execution_count": 8,
   "id": "ae2340f4",
   "metadata": {},
   "outputs": [
    {
     "name": "stdout",
     "output_type": "stream",
     "text": [
      "Something is happening before the function is called.\n",
      "Hello!\n",
      "Something is happening after the function is called.\n"
     ]
    }
   ],
   "source": [
    "#decorator\n",
    "\n",
    "def my_decorator(func):\n",
    "    def wrapper():\n",
    "        print(\"Something is happening before the function is called.\")\n",
    "        func()\n",
    "        print(\"Something is happening after the function is called.\")\n",
    "    return wrapper\n",
    "\n",
    "@my_decorator\n",
    "def say_hello():\n",
    "    print(\"Hello!\")\n",
    "\n",
    "say_hello()\n"
   ]
  },
  {
   "cell_type": "code",
   "execution_count": null,
   "id": "fb678cf5",
   "metadata": {},
   "outputs": [],
   "source": []
  }
 ],
 "metadata": {
  "kernelspec": {
   "display_name": "Python 3 (ipykernel)",
   "language": "python",
   "name": "python3"
  },
  "language_info": {
   "codemirror_mode": {
    "name": "ipython",
    "version": 3
   },
   "file_extension": ".py",
   "mimetype": "text/x-python",
   "name": "python",
   "nbconvert_exporter": "python",
   "pygments_lexer": "ipython3",
   "version": "3.9.13"
  }
 },
 "nbformat": 4,
 "nbformat_minor": 5
}
