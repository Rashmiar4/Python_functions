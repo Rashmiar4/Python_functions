{
 "cells": [
  {
   "cell_type": "markdown",
   "id": "150f3ff6",
   "metadata": {},
   "source": [
    "# Object Oriented Programming"
   ]
  },
  {
   "cell_type": "markdown",
   "id": "c9b1bff9",
   "metadata": {},
   "source": [
    "### Objects\n",
    "- includes attributes and behaviour\n",
    "\n",
    "### attributes \n",
    "- defines what of the object\n",
    "- data, properties ex:age,name\n",
    "- to define attributes we will use variables\n",
    "    \n",
    "### behaviour \n",
    "- defines how of the project\n",
    "- walking\n",
    "- to define behaviour,operations we will use method(Functions in OOPS are called as methods)\n",
    "\n",
    "\n",
    "- for example consider a phone, a particular models design is created once and it will be manufactured multiple times- designed once and manufactured multiple times.\n",
    "\n",
    "- similarly,\n",
    "- class is the design/blueprint\n",
    "- objects are the real entities/instances of class\n",
    "\n"
   ]
  },
  {
   "cell_type": "markdown",
   "id": "6b48fb2d",
   "metadata": {},
   "source": [
    "## class and objects"
   ]
  },
  {
   "cell_type": "code",
   "execution_count": 8,
   "id": "9beb0bf1",
   "metadata": {},
   "outputs": [
    {
     "name": "stdout",
     "output_type": "stream",
     "text": [
      "<class '__main__.computer'>\n",
      "i5,16gb,1TB\n",
      "i5,16gb,1TB\n"
     ]
    }
   ],
   "source": [
    "class computer():\n",
    "    \n",
    "    #behaviour\n",
    "    def config(self):     # self refers to the object which is accesing this method\n",
    "        print(\"i5,16gb,1TB\")\n",
    "        \n",
    "# objects or instances\n",
    "com1 = computer() #object creation\n",
    "com2 = computer()\n",
    "\n",
    "print(type(com1))   # <class '__main__.computer'>  main -> module, computer -> our user defined class \n",
    "\n",
    "# in functions we will call the function like config() but in OOPS it wont work like that\n",
    "# calling config() with the help of class by passing object\n",
    "computer.config(com1) #-> how to use a method using a instance of the class in a clean way, this way also can be used\n",
    "\n",
    "# from class computer use config on com1 object, a class can hve any number of objects right,\n",
    "#so for which object we want to call the particular method, so pass that object as parameter to config which indicates that\n",
    "# that method is being used by comp1 that is why config is taking self parameter, self refers to that particular object\n",
    "\n",
    "computer.config(com2)\n",
    "\n",
    "  "
   ]
  },
  {
   "cell_type": "code",
   "execution_count": 9,
   "id": "880795b0",
   "metadata": {},
   "outputs": [
    {
     "name": "stdout",
     "output_type": "stream",
     "text": [
      "i5,16gb,1TB\n",
      "i5,16gb,1TB\n"
     ]
    }
   ],
   "source": [
    "class computer():\n",
    "    \n",
    "    def config(self):\n",
    "        print(\"i5,16gb,1TB\")\n",
    "        \n",
    "\n",
    "com1 = computer()\n",
    "com2 = computer()\n",
    "\n",
    "#most used syntactic way to use a method using a instance of the class\n",
    "#calling config() using the object itself\n",
    "com1.config() \n",
    "#calling config for com1 object which is the instance of computer class, behind the scene config() will take\n",
    "# com1 as the argument and pass it to self\n",
    "com2.config()    "
   ]
  },
  {
   "cell_type": "markdown",
   "id": "869c30f0",
   "metadata": {},
   "source": [
    " ##  __init__ \n",
    "\n",
    "- behaves like a constructor, it is called whenever a classes object is created\n",
    "- it is an instance method that intialises newly created object.\n",
    "- it takes the object as its first argument(self) followed by additional arguments that need to be passed to it\n",
    "- self represents the class's instance and is required to access any variable or methods within the class for that particular object\n"
   ]
  },
  {
   "cell_type": "raw",
   "id": "f4bc52fd",
   "metadata": {},
   "source": [
    "__name__  -> special variable\n",
    "__init__ -> speacial method,constructor -> to initialise the varibles(attributes)"
   ]
  },
  {
   "cell_type": "code",
   "execution_count": 1,
   "id": "d715bc1b",
   "metadata": {},
   "outputs": [
    {
     "name": "stdout",
     "output_type": "stream",
     "text": [
      "in init\n",
      "i5,16gb,1TB\n"
     ]
    }
   ],
   "source": [
    "class computer:\n",
    "    \n",
    "    \n",
    "    def __init__(python):  \n",
    "        print(\"in init\")\n",
    "        \n",
    "        \n",
    "    \n",
    "    def config(self):\n",
    "        print(\"i5,16gb,1TB\")\n",
    "        \n",
    "com1 = computer()\n",
    "\n",
    "com1.config()\n",
    "\n",
    "#output - \n",
    "#in init\n",
    "#i5,16gb,1TB\n",
    "#we are not calling init anywhere but still __init__ got printed \n",
    "#because it works as a constructor ,it is an instace method that initialises a newly created object\n",
    "\n",
    "        "
   ]
  },
  {
   "cell_type": "code",
   "execution_count": 3,
   "id": "1adf69e4",
   "metadata": {},
   "outputs": [
    {
     "name": "stdout",
     "output_type": "stream",
     "text": [
      "config is: i5 16\n",
      "config is: ryzen 8\n"
     ]
    }
   ],
   "source": [
    "class computer:\n",
    "    \n",
    "    #attributes - variables\n",
    "    def __init__(self,cpu,ram):  # when taking values from user, pass those values as arguments com1= computer('i5,16')\n",
    "        #self intenally represnts to the object, so pass other arg while creating a object\n",
    "        self.cpu = cpu  #object is self so self.\n",
    "        self.ram = ram \n",
    "       \n",
    "        \n",
    "        \n",
    "    \n",
    "    def config(self):\n",
    "        print(\"config is:\",self.cpu,self.ram)\n",
    "   \n",
    " #every object will have its own values, pass those as args\n",
    "com1 = computer('i5',16)\n",
    "com2 = computer('ryzen',8)\n",
    "\n",
    "com1.config()\n",
    "com2.config()\n",
    "\n"
   ]
  },
  {
   "cell_type": "code",
   "execution_count": 20,
   "id": "910fc203",
   "metadata": {},
   "outputs": [
    {
     "name": "stdout",
     "output_type": "stream",
     "text": [
      "config is: 15 18\n"
     ]
    }
   ],
   "source": [
    "class computer:\n",
    "    \n",
    "    #attributes - variables\n",
    "    def __init__(self):  # we are not taking input from user, so while assigning inside the class no need to pass it as arg\n",
    "        self.cpu = 15  #object is self so self.\n",
    "        self.ram = 18 \n",
    "       \n",
    "        \n",
    "        \n",
    "    \n",
    "    def config(self):\n",
    "        print(\"config is:\",self.cpu,self.ram)\n",
    "        \n",
    "com1 = computer()\n",
    "\n",
    "com1.config()"
   ]
  },
  {
   "cell_type": "markdown",
   "id": "342df8f3",
   "metadata": {},
   "source": [
    "## construcor, self and comparing objects in python"
   ]
  },
  {
   "cell_type": "code",
   "execution_count": 30,
   "id": "d8b2efa4",
   "metadata": {},
   "outputs": [
    {
     "name": "stdout",
     "output_type": "stream",
     "text": [
      "2125875685744\n",
      "2125875684016\n"
     ]
    }
   ],
   "source": [
    "class computer:\n",
    "    pass\n",
    "\n",
    "c1 = computer()\n",
    "c2 = computer()\n",
    "\n",
    "print(id(c1))\n",
    "print(id(c2))\n",
    "\n",
    "\n",
    "# objects will have different address\n",
    "#every time we create a object it is allocated to new space, \n",
    "#if you execute this 2 times, both the times you will get different address because for every run new onject will be created\n",
    "# size of an object depends on number of variables and size of each variable\n",
    "# constuctor allocates size to object,calculates memory. \n",
    "#computer() is the constructor here it will call the __init__ method internally"
   ]
  },
  {
   "cell_type": "code",
   "execution_count": 1,
   "id": "ad3cb6fc",
   "metadata": {},
   "outputs": [
    {
     "name": "stdout",
     "output_type": "stream",
     "text": [
      "rashmi\n",
      "rashmi\n"
     ]
    }
   ],
   "source": [
    "class computer:\n",
    "    \n",
    "    \n",
    "    def __init__(self):\n",
    "        self.name = \"rashmi\"\n",
    "        age = 20\n",
    "        \n",
    "        \n",
    "        \n",
    "c1 = computer()\n",
    "c2 = computer()\n",
    "\n",
    "print(c1.name)  # both objects will have same values because they are referring to the same attributes\n",
    "print(c2.name)"
   ]
  },
  {
   "cell_type": "code",
   "execution_count": 2,
   "id": "f2700b08",
   "metadata": {},
   "outputs": [
    {
     "name": "stdout",
     "output_type": "stream",
     "text": [
      "chinnu\n",
      "rashmi\n"
     ]
    }
   ],
   "source": [
    "class computer:\n",
    "    \n",
    "    \n",
    "    def __init__(self):\n",
    "        self.name = \"rashmi\"\n",
    "        age = 20\n",
    "        \n",
    "        \n",
    "        \n",
    "c1 = computer()\n",
    "c2 = computer()\n",
    "\n",
    "c1.name = \"chinnu\"  # to change the value of c1 object\n",
    "c1.age = 21\n",
    "\n",
    "print(c1.name)  \n",
    "print(c2.name)"
   ]
  },
  {
   "cell_type": "code",
   "execution_count": 5,
   "id": "44e4909b",
   "metadata": {},
   "outputs": [
    {
     "name": "stdout",
     "output_type": "stream",
     "text": [
      "chinnu\n",
      "rashmi\n",
      "21\n",
      "20\n",
      "after updating 30\n"
     ]
    }
   ],
   "source": [
    "class computer:\n",
    "    \n",
    "    \n",
    "    def __init__(self):\n",
    "        self.name = \"rashmi\"\n",
    "        self.age = 20\n",
    "        \n",
    "    def update(self):  # if c1.update is called here self refers to the c1 same goes for other objects\n",
    "        self.age = 30\n",
    "        \n",
    "        \n",
    "        \n",
    "c1 = computer()\n",
    "c2 = computer()\n",
    "\n",
    "c1.name = \"chinnu\"  # to change the value of c1 object\n",
    "c1.age = 21\n",
    "\n",
    "print(c1.name)  \n",
    "print(c2.name)\n",
    "print(c1.age)\n",
    "print(c2.age)\n",
    "\n",
    "\n",
    "c1.update()\n",
    "print(\"after updating\",c1.age)"
   ]
  },
  {
   "cell_type": "code",
   "execution_count": 9,
   "id": "030d79dc",
   "metadata": {},
   "outputs": [
    {
     "name": "stdout",
     "output_type": "stream",
     "text": [
      "chinnu\n",
      "rashmi\n",
      "20\n",
      "20\n",
      "they are same\n",
      "they are same\n"
     ]
    }
   ],
   "source": [
    "class computer:\n",
    "    \n",
    "    \n",
    "    def __init__(self):\n",
    "        self.name = \"rashmi\"\n",
    "        self.age = 20\n",
    "    \n",
    "        \n",
    "    def compare(self, other_obj): # we compare 2 values, self refers to the current obj and other_obj refers to the object to be compared\n",
    "        if self.age == other_obj.age:\n",
    "            print(\"they are same\")\n",
    "        else:\n",
    "            print(\"they are not same\")\n",
    "        \n",
    "        \n",
    "        \n",
    "c1 = computer()\n",
    "c2 = computer()\n",
    "\n",
    "c1.name = \"chinnu\"  # to change the value of c1 object\n",
    "\n",
    "print(c1.name)  \n",
    "print(c2.name)\n",
    "print(c1.age)\n",
    "print(c2.age)\n",
    "\n",
    "\n",
    "c1.compare(c2)  #c1 ->self, c2 ->other_obj  #who are calling it->self,  whom to compare with ->other_obj\n",
    "c2.compare(c1)\n"
   ]
  },
  {
   "cell_type": "code",
   "execution_count": 11,
   "id": "c0824bef",
   "metadata": {},
   "outputs": [
    {
     "name": "stdout",
     "output_type": "stream",
     "text": [
      "they are same\n",
      "chinnu\n",
      "rashmi\n",
      "21\n",
      "20\n",
      "they are not same\n"
     ]
    }
   ],
   "source": [
    "class computer:\n",
    "    \n",
    "    \n",
    "    def __init__(self):\n",
    "        self.name = \"rashmi\"\n",
    "        self.age = 20\n",
    "    \n",
    "        \n",
    "    def compare(self, other_obj): # we compare 2 values, self refers to the current obj and other_obj refers to the object to be compared\n",
    "        if self.age == other_obj.age:\n",
    "            print(\"they are same\")\n",
    "        else:\n",
    "            print(\"they are not same\")\n",
    "        \n",
    "        \n",
    "        \n",
    "c1 = computer()\n",
    "c2 = computer()\n",
    "\n",
    "c1.compare(c2)\n",
    "\n",
    "c1.name = \"chinnu\"  # to change the value of c1 object\n",
    "c1. age = 21\n",
    "print(c1.name)  \n",
    "print(c2.name)\n",
    "print(c1.age)\n",
    "print(c2.age)\n",
    "\n",
    "c2.compare(c1)\n"
   ]
  },
  {
   "cell_type": "markdown",
   "id": "9c14c5e6",
   "metadata": {},
   "source": [
    "# Types of variables\n",
    "\n",
    "###  instace variable \n",
    "- variable declared inside a __init__\n",
    "- different for different objects\n",
    "- if one objects value changes it wont affect other instances\n",
    "\n",
    "###  class variable(static) \n",
    " - variable declared outside the __init__ and inside a class\n",
    " - same for all the objects\n",
    " - if it is changed, the change will be reflected in the all the objects"
   ]
  },
  {
   "cell_type": "code",
   "execution_count": 2,
   "id": "92b19726",
   "metadata": {},
   "outputs": [
    {
     "name": "stdout",
     "output_type": "stream",
     "text": [
      "10 BMW\n",
      "10 BMW\n"
     ]
    }
   ],
   "source": [
    "class car:\n",
    "    def __init__(self):\n",
    "        self.mil = 10\n",
    "        self.com = 'BMW'\n",
    "        \n",
    "#instance variable -> \n",
    "#they are different for different objects, if we change the value of one object it will not affect other variable \n",
    "#so each instance/object will have separate variables thats why they are called as instance variables        \n",
    "        \n",
    "c1 = car()\n",
    "c2 = car()\n",
    "\n",
    "print(c1.mil,c1.com)\n",
    "print(c2.mil,c2.com)"
   ]
  },
  {
   "cell_type": "code",
   "execution_count": 3,
   "id": "49d94831",
   "metadata": {},
   "outputs": [
    {
     "name": "stdout",
     "output_type": "stream",
     "text": [
      "12 BMW\n",
      "10 BMW\n"
     ]
    }
   ],
   "source": [
    "class car:\n",
    "    def __init__(self):\n",
    "        self.mil = 10\n",
    "        self.com = 'BMW'\n",
    "        \n",
    "        \n",
    "c1 = car() \n",
    "c2 = car()\n",
    "\n",
    "c1.mil = 12 # here i'm changing the value of c1, so only c1 gets changes it wont affect c2 -> instance variables\n",
    "\n",
    "print(c1.mil,c1.com)\n",
    "print(c2.mil,c2.com)"
   ]
  },
  {
   "cell_type": "code",
   "execution_count": 4,
   "id": "c70f4739",
   "metadata": {},
   "outputs": [
    {
     "name": "stdout",
     "output_type": "stream",
     "text": [
      "12 BMW 4\n",
      "10 BMW 4\n"
     ]
    }
   ],
   "source": [
    "#the change will affect all the objects -> class/static variables\n",
    "\n",
    "class car:\n",
    "    \n",
    "    wheels = 4 #class variable\n",
    "    \n",
    "    def __init__(self):\n",
    "        self.mil = 10\n",
    "        self.com = 'BMW'\n",
    "        \n",
    "        \n",
    "c1 = car() \n",
    "c2 = car()\n",
    "\n",
    "c1.mil = 12 \n",
    "\n",
    "print(c1.mil,c1.com, c1.wheels)\n",
    "print(c2.mil,c2.com,c2.wheels)"
   ]
  },
  {
   "cell_type": "code",
   "execution_count": 6,
   "id": "310b55b3",
   "metadata": {},
   "outputs": [
    {
     "name": "stdout",
     "output_type": "stream",
     "text": [
      "12 BMW 5\n",
      "10 BMW 5\n"
     ]
    }
   ],
   "source": [
    "#the change will affect all the objects -> class/static variables\n",
    "# namespace -> area where we create and store object/variable\n",
    "#class namespace -> where all the class variables will be stored\n",
    "#object/instance namespace -> where all the object variables will be stored\n",
    "\n",
    "class car:\n",
    "    \n",
    "    wheels = 4 #class variable  #class namespace\n",
    "    \n",
    "    def __init__(self):\n",
    "        self.mil = 10   #instance namespace\n",
    "        self.com = 'BMW'\n",
    "        \n",
    "        \n",
    "c1 = car() \n",
    "c2 = car()\n",
    "\n",
    "c1.mil = 12 \n",
    "\n",
    "car.wheels = 5 \n",
    "# wheel is stored in the class namespace, so when we want to work with/modify it we have to use class name\n",
    "# it will affect all the other variables, \n",
    "#now c1.wheels and c2.wheels will also get changed to 5 because it is shared between all the objects of the class\n",
    "\n",
    "print(c1.mil,c1.com, c1.wheels)\n",
    "print(c2.mil,c2.com,c2.wheels)"
   ]
  },
  {
   "cell_type": "markdown",
   "id": "b87aa11f",
   "metadata": {},
   "source": [
    "# Types of methods\n",
    "\n",
    "### instance methods\n",
    "- works with instance variables\n",
    "- pass self as argument to the instance methods as we are working with the instance\n",
    "\n",
    "- #### 2 types of instance methods \n",
    "- accessor methods(getters)  - fetch the value of the instance variable,get the value(will not modify)\n",
    "- mutator methods(setters)   - modify the value of the instance variable, set the value\n",
    "\n",
    "### class methods\n",
    "- works with class variables\n",
    "- pass cls as argument to the class methods as we are working with the class variables\n",
    "- @classmethod is used as decorator\n",
    "\n",
    "### static methods\n",
    "- a method which has nothing to do with instance and class variable -> static methods\n",
    "- dont pass anything as argument\n",
    "- @staticmethod is used as decorator"
   ]
  },
  {
   "cell_type": "code",
   "execution_count": 9,
   "id": "54962420",
   "metadata": {},
   "outputs": [
    {
     "name": "stdout",
     "output_type": "stream",
     "text": [
      "43.666666666666664\n"
     ]
    },
    {
     "data": {
      "text/plain": [
       "67.0"
      ]
     },
     "execution_count": 9,
     "metadata": {},
     "output_type": "execute_result"
    }
   ],
   "source": [
    "class student:\n",
    "    \n",
    "    school = \"abcd\"  #class variable\n",
    "    \n",
    "    def __init__(self,m1,m2,m3):\n",
    "        self.m1 = m1  #m1 will be assigned to particular object by calling self.m1  , self->particular object\n",
    "        self.m2 = m2    #instance variable\n",
    "        self.m3 = m3\n",
    "        \n",
    "    def avg(self):  # instance method -> because we are passing self which means it belong to a particular object/instance\n",
    "        return (self.m1+self.m2+self.m3)/3\n",
    "        \n",
    "        \n",
    "        \n",
    "s1 = student(25,47,59)\n",
    "s2 = student(47,56,98)\n",
    "\n",
    "print(s1.avg())\n",
    "s2.avg()"
   ]
  },
  {
   "cell_type": "code",
   "execution_count": 15,
   "id": "5aa7c179",
   "metadata": {},
   "outputs": [
    {
     "name": "stdout",
     "output_type": "stream",
     "text": [
      "25 47 59\n",
      "47 56 98\n",
      "43.666666666666664\n",
      "67.0\n",
      "25\n",
      "34\n"
     ]
    }
   ],
   "source": [
    "class student:\n",
    "    \n",
    "    school = \"abcd\"  #class variable\n",
    "    #to work with class variable we have to use class methods\n",
    "    \n",
    "    def __init__(self,m1,m2,m3):\n",
    "        self.m1 = m1  \n",
    "        self.m2 = m2   \n",
    "        self.m3 = m3\n",
    "        \n",
    "    def avg(self):  \n",
    "        return (self.m1+self.m2+self.m3)/3\n",
    "    \n",
    "    def get_m1(self):   \n",
    "        return self.m1\n",
    "    \n",
    "    def set_m1(self,value):\n",
    "        self.m1 = value\n",
    "        return self.m1\n",
    "        \n",
    "        \n",
    "s1 = student(25,47,59)\n",
    "s2 = student(47,56,98)\n",
    "\n",
    "\n",
    "print(s1.m1,s1.m2,s1.m3)\n",
    "print(s2.m1,s2.m2,s2.m3)\n",
    "print(s1.avg())\n",
    "print(s2.avg())\n",
    "print(s1.get_m1())\n",
    "print(s1.set_m1(34))"
   ]
  },
  {
   "cell_type": "code",
   "execution_count": 16,
   "id": "feed2d49",
   "metadata": {},
   "outputs": [
    {
     "name": "stdout",
     "output_type": "stream",
     "text": [
      "43.666666666666664\n",
      "67.0\n"
     ]
    },
    {
     "ename": "TypeError",
     "evalue": "info() missing 1 required positional argument: 'cls'",
     "output_type": "error",
     "traceback": [
      "\u001b[1;31m---------------------------------------------------------------------------\u001b[0m",
      "\u001b[1;31mTypeError\u001b[0m                                 Traceback (most recent call last)",
      "\u001b[1;32m~\\AppData\\Local\\Temp\\ipykernel_14924\\1571863741.py\u001b[0m in \u001b[0;36m<module>\u001b[1;34m\u001b[0m\n\u001b[0;32m     33\u001b[0m \u001b[0mprint\u001b[0m\u001b[1;33m(\u001b[0m\u001b[0ms2\u001b[0m\u001b[1;33m.\u001b[0m\u001b[0mavg\u001b[0m\u001b[1;33m(\u001b[0m\u001b[1;33m)\u001b[0m\u001b[1;33m)\u001b[0m\u001b[1;33m\u001b[0m\u001b[1;33m\u001b[0m\u001b[0m\n\u001b[0;32m     34\u001b[0m \u001b[1;31m#print(s1.info()) #info should work for all the objects not specfic to single object as it is a class method so use student.info()\u001b[0m\u001b[1;33m\u001b[0m\u001b[1;33m\u001b[0m\u001b[0m\n\u001b[1;32m---> 35\u001b[1;33m \u001b[0mprint\u001b[0m\u001b[1;33m(\u001b[0m\u001b[0mstudent\u001b[0m\u001b[1;33m.\u001b[0m\u001b[0minfo\u001b[0m\u001b[1;33m(\u001b[0m\u001b[1;33m)\u001b[0m\u001b[1;33m)\u001b[0m\u001b[1;33m\u001b[0m\u001b[1;33m\u001b[0m\u001b[0m\n\u001b[0m",
      "\u001b[1;31mTypeError\u001b[0m: info() missing 1 required positional argument: 'cls'"
     ]
    }
   ],
   "source": [
    "class student:\n",
    "    \n",
    "    school = \"abcd\"  #class variable\n",
    "    #to work with class variable we have to use class methods\n",
    "    \n",
    "    def __init__(self,m1,m2,m3):\n",
    "        self.m1 = m1  \n",
    "        self.m2 = m2   \n",
    "        self.m3 = m3\n",
    "        \n",
    "    def avg(self):  \n",
    "        return (self.m1+self.m2+self.m3)/3\n",
    "    \n",
    "    def get_m1(self):   \n",
    "        return self.m1\n",
    "    \n",
    "    def set_m1(self,value):\n",
    "        self.m1 = value\n",
    "        return self.m1\n",
    "    \n",
    "#class method - while working with instance we will use self keyword, when working with class variable we have to use\"cls\"\n",
    "    \n",
    "    def info(cls):  \n",
    "        return cls.school\n",
    "        \n",
    "        \n",
    "        \n",
    "s1 = student(25,47,59)\n",
    "s2 = student(47,56,98)\n",
    "\n",
    "\n",
    "print(s1.avg())\n",
    "print(s2.avg())\n",
    "#print(s1.info()) #info should work for all the objects not specfic to single object as it is a class method so use student.info()\n",
    "print(student.info()) #to resolve error use decorator"
   ]
  },
  {
   "cell_type": "code",
   "execution_count": 18,
   "id": "73068e0f",
   "metadata": {},
   "outputs": [
    {
     "name": "stdout",
     "output_type": "stream",
     "text": [
      "43.666666666666664\n",
      "67.0\n",
      "abcd\n"
     ]
    }
   ],
   "source": [
    "class student:\n",
    "    \n",
    "    school = \"abcd\"  #class variable\n",
    "    #to work with class variable we have to use class methods\n",
    "    \n",
    "    def __init__(self,m1,m2,m3):\n",
    "        self.m1 = m1  \n",
    "        self.m2 = m2   \n",
    "        self.m3 = m3\n",
    "        \n",
    "    def avg(self):  \n",
    "        return (self.m1+self.m2+self.m3)/3\n",
    "    \n",
    "    def get_m1(self):   \n",
    "        return self.m1\n",
    "    \n",
    "    def set_m1(self,value):\n",
    "        self.m1 = value\n",
    "        return self.m1\n",
    "    \n",
    "#class method - while working with instance we will use self keyword, when working with class variable we have to use\"cls\"\n",
    "    @classmethod\n",
    "    def info(cls):  #info is a class method so use @classmethod(decorator)\n",
    "        return cls.school\n",
    "        \n",
    "        \n",
    "        \n",
    "s1 = student(25,47,59)\n",
    "s2 = student(47,56,98)\n",
    "\n",
    "\n",
    "print(s1.avg())\n",
    "print(s2.avg())\n",
    "print(student.info())"
   ]
  },
  {
   "cell_type": "code",
   "execution_count": 30,
   "id": "508d556b",
   "metadata": {
    "scrolled": true
   },
   "outputs": [
    {
     "name": "stdout",
     "output_type": "stream",
     "text": [
      "43.666666666666664\n",
      "67.0\n",
      "this is static method\n",
      "this is static method\n"
     ]
    }
   ],
   "source": [
    "class student:\n",
    "    \n",
    "    school = \"abcd\" \n",
    "    \n",
    "    def __init__(self,m1,m2,m3):\n",
    "        self.m1 = m1  \n",
    "        self.m2 = m2   \n",
    "        self.m3 = m3\n",
    "        \n",
    "    def avg(self):  \n",
    "        return (self.m1+self.m2+self.m3)/3\n",
    "    \n",
    "    def get_m1(self):   \n",
    "        return self.m1\n",
    "    \n",
    "    def set_m1(self,value):\n",
    "        self.m1 = value\n",
    "        return self.m1\n",
    "    \n",
    "    @staticmethod\n",
    "    def info():  # no self,no clsas it is static variable\n",
    "        print(\"this is static method\")\n",
    "    \n",
    "\n",
    "        \n",
    "s1 = student(25,47,59)\n",
    "s2 = student(47,56,98)\n",
    "\n",
    "\n",
    "print(s1.avg())\n",
    "print(s2.avg())\n",
    "s1.info()      # both class and instance variables can be used to access static methods\n",
    "student.info()\n"
   ]
  },
  {
   "cell_type": "markdown",
   "id": "c692b001",
   "metadata": {},
   "source": [
    "# Inheritance\n",
    "\n",
    "- it is like parent - child relationship\n",
    "- class from which other class is inherting is called super or parent class\n",
    "- class which is inherting is calles as sub or child class\n",
    "- subclass can access all the features of super class but super class can't access any feature of sub class"
   ]
  },
  {
   "cell_type": "code",
   "execution_count": 32,
   "id": "b0074383",
   "metadata": {},
   "outputs": [
    {
     "name": "stdout",
     "output_type": "stream",
     "text": [
      "first Feature of A\n",
      "second Feature of A\n"
     ]
    }
   ],
   "source": [
    "#class A has 2 methods : feature1,feature2 so a1 can accesss these 2 methods\n",
    "\n",
    "class A:\n",
    "    def feature1(self):  \n",
    "        print(\"first Feature of A\")\n",
    "        \n",
    "    def feature2(self):\n",
    "        print(\"second Feature of A\")\n",
    "        \n",
    "a1 = A()\n",
    "a1.feature1()\n",
    "a1.feature2()        "
   ]
  },
  {
   "cell_type": "code",
   "execution_count": 39,
   "id": "cc21d57e",
   "metadata": {},
   "outputs": [
    {
     "name": "stdout",
     "output_type": "stream",
     "text": [
      "first Feature of A\n",
      "second Feature of A\n",
      "\n",
      "first Feature of B\n",
      "second Feature of B\n"
     ]
    }
   ],
   "source": [
    "#class A has 2 methods : feature1,feature2\n",
    "class A:\n",
    "    def feature1(self):\n",
    "        print(\"first Feature of A\")\n",
    "        \n",
    "    def feature2(self):\n",
    "        print(\"second Feature of A\")\n",
    "        \n",
    "# class B has 2 methods : feature3,feature4  so b1 can access these 2 methods\n",
    "\n",
    "class B():  \n",
    "    def feature3(self):\n",
    "        print(\"first Feature of B\")\n",
    "        \n",
    "    def feature4(self):\n",
    "        print(\"second Feature of B\")\n",
    "        \n",
    "a1 = A()\n",
    "a1.feature1()\n",
    "a1.feature2()\n",
    "print()\n",
    "b1 = B() \n",
    "b1.feature3()\n",
    "b1.feature4()"
   ]
  },
  {
   "cell_type": "markdown",
   "id": "a9ae4196",
   "metadata": {},
   "source": [
    "## Single level inheritance \n",
    "\n",
    "### A<------ B\n",
    "\n",
    "- One class is inherting attributes and methods of other class\n",
    "- in the below program class B is inherting the methods from class A, now class A becomes the super or the parent class abd class B becomes the sub or the child class"
   ]
  },
  {
   "cell_type": "code",
   "execution_count": 41,
   "id": "35491c48",
   "metadata": {},
   "outputs": [
    {
     "name": "stdout",
     "output_type": "stream",
     "text": [
      "first Feature of A\n",
      "second Feature of A\n",
      "\n",
      "first Feature of A\n",
      "second Feature of A\n",
      "first Feature of B\n",
      "second Feature of B\n"
     ]
    }
   ],
   "source": [
    "class A:\n",
    "    def feature1(self):\n",
    "        print(\"first Feature of A\")\n",
    "        \n",
    "    def feature2(self):\n",
    "        print(\"second Feature of A\")\n",
    "        \n",
    "# class B as 2 methods : feature3,feature4\n",
    "# B can inheriting from A, so Pass A as argument to class B which meand class B can access all the attributes and methods of class A\n",
    "class B(A):\n",
    "    def feature3(self):\n",
    "        print(\"first Feature of B\")\n",
    "        \n",
    "    def feature4(self):\n",
    "        print(\"second Feature of B\")\n",
    "\n",
    "a1 = A()\n",
    "a1.feature1()\n",
    "a1.feature2()\n",
    "print()\n",
    "b1 = B() # after inherting from A,B has its 2 methods and can also access other 2 methods of class A, total 4 methods       \n",
    "b1.feature1()\n",
    "b1.feature2()\n",
    "b1.feature3()\n",
    "b1.feature4()"
   ]
  },
  {
   "cell_type": "markdown",
   "id": "0e76ae8a",
   "metadata": {},
   "source": [
    "## Multi level inheritance\n",
    "### A <------ B <----- C\n",
    "- second class is inherting attributes and methods of first class, third class is inheriting from second class which contains the attributes and methods of first class. so third class object can access all the methods of A,B and C\n",
    "- so class c has access to class B directly and class A (indirectly, as class B is child of A)\n",
    "- in the below program class B is inherting the methods from class A, now class A becomes the super or the parent class abd class B becomes the sub or the child class"
   ]
  },
  {
   "cell_type": "code",
   "execution_count": 44,
   "id": "d60ee5c1",
   "metadata": {},
   "outputs": [
    {
     "name": "stdout",
     "output_type": "stream",
     "text": [
      "first Feature of A\n"
     ]
    }
   ],
   "source": [
    "#class A as 2 methods : feature1,feature2\n",
    "class A:\n",
    "    def feature1(self):\n",
    "        print(\"first Feature of A\")\n",
    "        \n",
    "    def feature2(self):\n",
    "        print(\"second Feature of A\")\n",
    "        \n",
    "# class B as 2 methods : feature3,feature4  \n",
    "\n",
    "class B(A):  # B is inherting from A,so class B has total 4 methods, 2 methods of B and 2 methods of A\n",
    "    def feature3(self):\n",
    "        print(\"first Feature of B\")\n",
    "        \n",
    "    def feature4(self):\n",
    "        print(\"second Feature of B\")\n",
    " \n",
    " #c is inherting from B,so class c has total 5 methods, \n",
    "# 1 methods of C and 2 methods of B and 2 methods of A as well as B is the child of A \n",
    "class C(B): \n",
    "    def feature5(self):\n",
    "        print(\"first Feature of c\")\n",
    "        \n",
    "c1 = C()\n",
    "c1.feature1()"
   ]
  },
  {
   "cell_type": "markdown",
   "id": "923dfb20",
   "metadata": {},
   "source": [
    "## Multiple inheritance\n",
    "     A   B\n",
    "     ^   ^\n",
    "     |   |\n",
    "     \\   /\n",
    "       C\n",
    "- 1 class is inherting attributes and methods from 2 classes(multiple classes)\n"
   ]
  },
  {
   "cell_type": "code",
   "execution_count": 46,
   "id": "51643dcb",
   "metadata": {},
   "outputs": [
    {
     "name": "stdout",
     "output_type": "stream",
     "text": [
      "first Feature of A\n",
      "first Feature of B\n",
      "first Feature of c\n"
     ]
    }
   ],
   "source": [
    "#class A as 2 methods : feature1,feature2\n",
    "class A:\n",
    "    def feature1(self):\n",
    "        print(\"first Feature of A\")\n",
    "        \n",
    "    def feature2(self):\n",
    "        print(\"second Feature of A\")\n",
    "        \n",
    "# class B as 2 methods : feature3,feature4  \n",
    "\n",
    "class B():  \n",
    "    def feature3(self):\n",
    "        print(\"first Feature of B\")\n",
    "        \n",
    "    def feature4(self):\n",
    "        print(\"second Feature of B\")\n",
    "        \n",
    " #c is inherting from A,B, so class c has total 5 methods, \n",
    "# 1 methods of C and 2 methods of B and 2 methods of A \n",
    "class C(A,B): \n",
    "    def feature5(self):\n",
    "        print(\"first Feature of c\")\n",
    "        \n",
    "c1 = C()\n",
    "c1.feature1()\n",
    "c1.feature3()\n",
    "c1.feature5()"
   ]
  },
  {
   "cell_type": "markdown",
   "id": "796a4c64",
   "metadata": {},
   "source": [
    "## Constructor in inheritance and Method resolution order(MRO)\n",
    "\n",
    "- ### constuctor\n",
    "- __init__\n"
   ]
  },
  {
   "cell_type": "code",
   "execution_count": 3,
   "id": "65766f92",
   "metadata": {},
   "outputs": [
    {
     "name": "stdout",
     "output_type": "stream",
     "text": [
      "init of A\n"
     ]
    }
   ],
   "source": [
    "class A:\n",
    "    \n",
    "    def __init__(self):\n",
    "        print(\"init of A\")\n",
    "        \n",
    "    def feature1(self):\n",
    "        print(\"first Feature of A\")\n",
    "        \n",
    "        \n",
    "class B(A):\n",
    "    def feature2(self):\n",
    "        print(\"first Feature of B\")\n",
    "        \n",
    "        \n",
    "b = B()  \n",
    "# since B inherits all the properties of A, even thogh if we dont call the __init__ explicitly\n",
    "#it will call the __init__ of A internally when the object b is created\n",
    "#because __init__ is a constructor that will be invoked when the object is created\n",
    "# since B does have __init__, __init__of A is called\n",
    "    "
   ]
  },
  {
   "cell_type": "code",
   "execution_count": 4,
   "id": "c4cb1a8b",
   "metadata": {},
   "outputs": [
    {
     "name": "stdout",
     "output_type": "stream",
     "text": [
      "init of B\n"
     ]
    }
   ],
   "source": [
    "class A:\n",
    "    \n",
    "    def __init__(self):\n",
    "        print(\"init of A\")\n",
    "        \n",
    "    def feature1(self):\n",
    "        print(\"first Feature of A\")\n",
    "        \n",
    "        \n",
    "class B(A):\n",
    "    \n",
    "    def __init__(self):\n",
    "        print(\"init of B\")\n",
    "    \n",
    "    def feature2(self):\n",
    "        print(\"first Feature of B\")\n",
    "        \n",
    "        \n",
    "b = B()\n",
    "\n",
    "# now class B has __init__ and its parent A also has __init__, since we have created the objevt for class B,\n",
    "# it will only call the __init__ of B even though we didn't call it \n",
    "#because it will be calles internally as soon as object b is created\n",
    "    "
   ]
  },
  {
   "cell_type": "code",
   "execution_count": 8,
   "id": "ec0a4b0b",
   "metadata": {},
   "outputs": [
    {
     "name": "stdout",
     "output_type": "stream",
     "text": [
      "init of A\n",
      "init of B\n"
     ]
    }
   ],
   "source": [
    "class A:\n",
    "    \n",
    "    def __init__(self):\n",
    "        print(\"init of A\")\n",
    "        \n",
    "    def feature1(self):\n",
    "        print(\"first Feature of A\")\n",
    "        \n",
    "        \n",
    "class B(A):\n",
    "    \n",
    "    def __init__(self):\n",
    "        super().__init__()\n",
    "        print(\"init of B\")\n",
    "        \n",
    "    \n",
    "    def feature2(self):\n",
    "        print(\"first Feature of B\")\n",
    "        \n",
    "        \n",
    "b = B()\n",
    "    "
   ]
  },
  {
   "cell_type": "code",
   "execution_count": 1,
   "id": "0373b90b",
   "metadata": {},
   "outputs": [
    {
     "name": "stdout",
     "output_type": "stream",
     "text": [
      "25\n",
      " \n",
      "    it will take n as input and produce its square as output\n",
      "    \n"
     ]
    }
   ],
   "source": [
    "def square(n):\n",
    "    ''' \n",
    "    it will take n as input and produce its square as output\n",
    "    '''\n",
    "    return (n*n)\n",
    "    \n",
    "print(square(5))\n",
    "print(square.__doc__)\n"
   ]
  },
  {
   "cell_type": "code",
   "execution_count": null,
   "id": "3ab1fc6d",
   "metadata": {},
   "outputs": [],
   "source": []
  }
 ],
 "metadata": {
  "kernelspec": {
   "display_name": "Python 3 (ipykernel)",
   "language": "python",
   "name": "python3"
  },
  "language_info": {
   "codemirror_mode": {
    "name": "ipython",
    "version": 3
   },
   "file_extension": ".py",
   "mimetype": "text/x-python",
   "name": "python",
   "nbconvert_exporter": "python",
   "pygments_lexer": "ipython3",
   "version": "3.9.13"
  }
 },
 "nbformat": 4,
 "nbformat_minor": 5
}
